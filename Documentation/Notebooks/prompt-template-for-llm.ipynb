{
 "cells": [
  {
   "cell_type": "markdown",
   "metadata": {},
   "source": [
    "# A notebook to try out different llm promts and models until the setup is complete. \n",
    "\n",
    "For the diffrent Prompts i will orient myself on the following simular Projects: \n",
    "\n",
    "* https://arxiv.org/pdf/2403.11996\n",
    "* https://towardsdatascience.com/how-to-convert-any-text-into-a-graph-of-concepts-110844f22a1a\n",
    "* https://towardsdatascience.com/text-to-knowledge-graph-made-easy-with-graph-maker-f3f890c0dbe8\n",
    "\n",
    "Using the following model mistral:instruct using ollama.\n"
   ]
  },
  {
   "cell_type": "markdown",
   "metadata": {},
   "source": [
    "``\n",
    "pip install networkx matplotlib ollama pandas\n",
    "``\n"
   ]
  },
  {
   "cell_type": "markdown",
   "metadata": {},
   "source": [
    "### Test if the model is working\n",
    "\n"
   ]
  },
  {
   "cell_type": "code",
   "execution_count": 7,
   "metadata": {},
   "outputs": [],
   "source": [
    "import ollama\n",
    "# response = ollama.chat(model='mistral:instruct', messages=[\n",
    "#   {\n",
    "#     'role': 'user',\n",
    "#     'content': 'Why is the sky blue?',\n",
    "#   },\n",
    "# ])\n",
    "# print(response['message']['content'])"
   ]
  },
  {
   "cell_type": "code",
   "execution_count": 8,
   "metadata": {},
   "outputs": [],
   "source": [
    "input = \"\"\"\n",
    "Graph-based methods are widely used in various fields including social network analysis, biology, and computer science. \n",
    "For instance, in biology, protein-protein interactions can be modeled as graphs where nodes represent proteins and edges \n",
    "represent interactions between them. Similarly, in social networks, nodes can represent individuals and edges represent \n",
    "relationships such as friendships or professional connections. Computer scientists often use graph algorithms to solve \n",
    "problems related to networking, data organization, and artificial intelligence.\n",
    "\"\"\"\n",
    "\n"
   ]
  },
  {
   "cell_type": "code",
   "execution_count": 16,
   "metadata": {},
   "outputs": [],
   "source": [
    "# Example Promt form: the first article \n",
    "\n",
    "SYS_PROMPT = (\n",
    "    \"You are a network graph maker who extracts terms and their relations from a given context. \"\n",
    "    \"You are provided with a context chunk (delimited by ```) Your task is to extract the ontology \"\n",
    "    \"of terms mentioned in the given context. These terms should represent the key concepts as per the context. \\n\"\n",
    "    \"Thought 1: While traversing through each sentence, Think about the key terms mentioned in it.\\n\"\n",
    "        \"\\tTerms may include object, entity, location, organization, person, \\n\"\n",
    "        \"\\tcondition, acronym, documents, service, concept, etc.\\n\"\n",
    "        \"\\tTerms should be as atomistic as possible\\n\\n\"\n",
    "    \"Thought 2: Think about how these terms can have one on one relation with other terms.\\n\"\n",
    "        \"\\tTerms that are mentioned in the same sentence or the same paragraph are typically related to each other.\\n\"\n",
    "        \"\\tTerms can be related to many other terms\\n\\n\"\n",
    "    \"Thought 3: Find out the relation between each such related pair of terms. \\n\\n\"\n",
    "    \"Format your output as a list of json. Each element of the list contains a pair of terms\"\n",
    "    \"and the relation between them, like the follwing: \\n\"\n",
    "    \"[\\n\"\n",
    "    \"   {\\n\"\n",
    "    '       \"node_1\": \"A concept from extracted ontology\",\\n'\n",
    "    '       \"node_2\": \"A related concept from extracted ontology\",\\n'\n",
    "    '       \"edge\": \"relationship between the two concepts, node_1 and node_2 in one or two sentences\"\\n'\n",
    "    \"   }, {...}\\n\"\n",
    "    \"]\"\n",
    ")\n",
    "\n",
    "USER_PROMPT = f\"context: ```{input}``` \\n\\n output: \""
   ]
  },
  {
   "cell_type": "code",
   "execution_count": 17,
   "metadata": {},
   "outputs": [
    {
     "data": {
      "text/plain": [
       "'You are a network graph maker who extracts terms and their relations from a given context. You are provided with a context chunk (delimited by ```) Your task is to extract the ontology of terms mentioned in the given context. These terms should represent the key concepts as per the context. \\nThought 1: While traversing through each sentence, Think about the key terms mentioned in it.\\n\\tTerms may include object, entity, location, organization, person, \\n\\tcondition, acronym, documents, service, concept, etc.\\n\\tTerms should be as atomistic as possible\\n\\nThought 2: Think about how these terms can have one on one relation with other terms.\\n\\tTerms that are mentioned in the same sentence or the same paragraph are typically related to each other.\\n\\tTerms can be related to many other terms\\n\\nThought 3: Find out the relation between each such related pair of terms. \\n\\nFormat your output as a list of json. Each element of the list contains a pair of termsand the relation between them, like the follwing: \\n[\\n   {\\n       \"node_1\": \"A concept from extracted ontology\",\\n       \"node_2\": \"A related concept from extracted ontology\",\\n       \"edge\": \"relationship between the two concepts, node_1 and node_2 in one or two sentences\"\\n       note_1 and node_2 are exapels for multibel nodes   }, {...}\\n]context: ```\\nGraph-based methods are widely used in various fields including social network analysis, biology, and computer science. \\nFor instance, in biology, protein-protein interactions can be modeled as graphs where nodes represent proteins and edges \\nrepresent interactions between them. Similarly, in social networks, nodes can represent individuals and edges represent \\nrelationships such as friendships or professional connections. Computer scientists often use graph algorithms to solve \\nproblems related to networking, data organization, and artificial intelligence.\\n``` \\n\\n output: '"
      ]
     },
     "execution_count": 17,
     "metadata": {},
     "output_type": "execute_result"
    }
   ],
   "source": [
    "# Combine the system and user prompts\n",
    "combined_prompt = SYS_PROMPT + USER_PROMPT\n",
    "combined_prompt"
   ]
  },
  {
   "cell_type": "code",
   "execution_count": 20,
   "metadata": {},
   "outputs": [
    {
     "data": {
      "text/plain": [
       "' [\\n  {\\n    \"node_1\": \"Graph-based methods\",\\n    \"node_2\": \"Social network analysis\",\\n    \"edge\": \"Graph-based methods are widely used in social network analysis\"\\n  },\\n  {\\n    \"node_1\": \"Graph-based methods\",\\n    \"node_2\": \"Biology\",\\n    \"edge\": \"Graph-based methods are widely used in Biology for modeling protein-protein interactions\"\\n  },\\n  {\\n    \"node_1\": \"Graph-based methods\",\\n    \"node_2\": \"Computer science\",\\n    \"edge\": \"Graph-based methods are widely used in Computer Science\"\\n  },\\n  {\\n    \"node_1\": \"Nodes\",\\n    \"node_2\": \"Proteins\",\\n    \"edge\": \"In Biology, nodes represent proteins\"\\n  },\\n  {\\n    \"node_1\": \"Nodes\",\\n    \"node_2\": \"Individuals\",\\n    \"edge\": \"In Social Networks, nodes represent individuals\"\\n  },\\n  {\\n    \"node_1\": \"Edges\",\\n    \"node_2\": \"Interactions between proteins\",\\n    \"edge\": \"Edges represent interactions between proteins in Biology\"\\n  },\\n  {\\n    \"node_1\": \"Edges\",\\n    \"node_2\": \"Friendships or professional connections\",\\n    \"edge\": \"Edges represent relationships such as friendships or professional connections in Social Networks\"\\n  }\\n]'"
      ]
     },
     "execution_count": 20,
     "metadata": {},
     "output_type": "execute_result"
    }
   ],
   "source": [
    "response = ollama.chat(model='mistral:instruct', messages=[\n",
    "  {\n",
    "    'role': 'user',\n",
    "    'content': combined_prompt,\n",
    "  },\n",
    "])\n",
    "# print(response['message']['content'])\n",
    "\n",
    "# Set the output of the response to data\n",
    "data = response['message']['content']\n",
    "data"
   ]
  },
  {
   "cell_type": "code",
   "execution_count": 33,
   "metadata": {},
   "outputs": [
    {
     "data": {
      "text/plain": [
       "' [\\n  {\\n    \"node_1\": \"Graph-based methods\",\\n    \"node_2\": \"Social network analysis\",\\n    \"edge\": \"Graph-based methods are widely used in social network analysis\"\\n  },\\n  {\\n    \"node_1\": \"Graph-based methods\",\\n    \"node_2\": \"Biology\",\\n    \"edge\": \"Graph-based methods are widely used in Biology for modeling protein-protein interactions\"\\n  },\\n  {\\n    \"node_1\": \"Graph-based methods\",\\n    \"node_2\": \"Computer science\",\\n    \"edge\": \"Graph-based methods are widely used in Computer Science\"\\n  },\\n  {\\n    \"node_1\": \"Nodes\",\\n    \"node_2\": \"Proteins\",\\n    \"edge\": \"In Biology, nodes represent proteins\"\\n  },\\n  {\\n    \"node_1\": \"Nodes\",\\n    \"node_2\": \"Individuals\",\\n    \"edge\": \"In Social Networks, nodes represent individuals\"\\n  },\\n  {\\n    \"node_1\": \"Edges\",\\n    \"node_2\": \"Interactions between proteins\",\\n    \"edge\": \"Edges represent interactions between proteins in Biology\"\\n  },\\n  {\\n    \"node_1\": \"Edges\",\\n    \"node_2\": \"Friendships or professional connections\",\\n    \"edge\": \"Edges represent relationships such as friendships or professional connections in Social Networks\"\\n  }\\n]'"
      ]
     },
     "execution_count": 33,
     "metadata": {},
     "output_type": "execute_result"
    }
   ],
   "source": [
    "data = response['message']['content']\n",
    "data"
   ]
  },
  {
   "cell_type": "code",
   "execution_count": 34,
   "metadata": {},
   "outputs": [
    {
     "name": "stdout",
     "output_type": "stream",
     "text": [
      "Nodes DataFrame:\n",
      "                                      Node\n",
      "0                      Graph-based methods\n",
      "1                  Social network analysis\n",
      "2                                  Biology\n",
      "3                         Computer science\n",
      "4                                    Nodes\n",
      "5                                 Proteins\n",
      "6                              Individuals\n",
      "7                                    Edges\n",
      "8            Interactions between proteins\n",
      "9  Friendships or professional connections\n",
      "\n",
      "Edges DataFrame:\n",
      "                Node_1                                   Node_2  \\\n",
      "0  Graph-based methods                  Social network analysis   \n",
      "1  Graph-based methods                                  Biology   \n",
      "2  Graph-based methods                         Computer science   \n",
      "3                Nodes                                 Proteins   \n",
      "4                Nodes                              Individuals   \n",
      "5                Edges            Interactions between proteins   \n",
      "6                Edges  Friendships or professional connections   \n",
      "\n",
      "                                                Edge  \n",
      "0  Graph-based methods are widely used in social ...  \n",
      "1  Graph-based methods are widely used in Biology...  \n",
      "2  Graph-based methods are widely used in Compute...  \n",
      "3               In Biology, nodes represent proteins  \n",
      "4    In Social Networks, nodes represent individuals  \n",
      "5  Edges represent interactions between proteins ...  \n",
      "6  Edges represent relationships such as friendsh...  \n"
     ]
    }
   ],
   "source": [
    "import networkx as nx\n",
    "import matplotlib.pyplot as plt\n",
    "import json\n",
    "import pandas as pd\n",
    "\n",
    "# Parse the JSON string to a Python list of dictionaries\n",
    "data = json.loads(data)\n",
    "\n",
    "\n",
    "G = nx.Graph()\n",
    "\n",
    "# Add nodes and edges to the graph\n",
    "for relation in data:\n",
    "    G.add_node(relation['node_1'])\n",
    "    G.add_node(relation['node_2'])\n",
    "    G.add_edge(relation['node_1'], relation['node_2'], label=relation['edge'])\n",
    "\n",
    "# Create DataFrames for nodes and edges\n",
    "nodes_df = pd.DataFrame(G.nodes(), columns=[\"Node\"])\n",
    "edges_df = pd.DataFrame([(u, v, d['label']) for u, v, d in G.edges(data=True)], columns=[\"Node_1\", \"Node_2\", \"Edge\"])\n",
    "\n",
    "# Print \n",
    "print(\"Nodes DataFrame:\")\n",
    "print(nodes_df)\n",
    "print(\"\\nEdges DataFrame:\")\n",
    "print(edges_df)"
   ]
  },
  {
   "cell_type": "code",
   "execution_count": 38,
   "metadata": {},
   "outputs": [
    {
     "name": "stdout",
     "output_type": "stream",
     "text": [
      "Warning: When  cdn_resources is 'local' jupyter notebook has issues displaying graphics on chrome/safari. Use cdn_resources='in_line' or cdn_resources='remote' if you have issues viewing graphics in a notebook.\n",
      "graph.html\n"
     ]
    }
   ],
   "source": [
    "from pyvis.network import Network\n",
    "\n",
    "def visualize_graph_pyvis(G):\n",
    "    net = Network(notebook=True)\n",
    "\n",
    "    for node in G.nodes:\n",
    "        net.add_node(node, label=node)\n",
    "\n",
    "    for edge in G.edges(data=True):\n",
    "        net.add_edge(edge[0], edge[1], title=edge[2]['label'])\n",
    "\n",
    "    net.show(\"graph.html\")\n",
    "\n",
    "# Create a graph using the pyvis library\n",
    "visualize_graph_pyvis(G)"
   ]
  },
  {
   "cell_type": "code",
   "execution_count": null,
   "metadata": {},
   "outputs": [],
   "source": []
  },
  {
   "cell_type": "code",
   "execution_count": null,
   "metadata": {},
   "outputs": [],
   "source": []
  }
 ],
 "metadata": {
  "kernelspec": {
   "display_name": "Python 3",
   "language": "python",
   "name": "python3"
  },
  "language_info": {
   "codemirror_mode": {
    "name": "ipython",
    "version": 3
   },
   "file_extension": ".py",
   "mimetype": "text/x-python",
   "name": "python",
   "nbconvert_exporter": "python",
   "pygments_lexer": "ipython3",
   "version": "3.10.13"
  }
 },
 "nbformat": 4,
 "nbformat_minor": 2
}
