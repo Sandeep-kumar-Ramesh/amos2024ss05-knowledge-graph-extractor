{
 "cells": [
  {
   "cell_type": "markdown",
   "metadata": {},
   "source": [
    "# A notebook to try out different llm promts and models until the setup is complete. \n",
    "\n",
    "For the diffrent Prompts i will orient myself on the following simular Projects: \n",
    "\n",
    "* https://arxiv.org/pdf/2403.11996\n",
    "* https://towardsdatascience.com/how-to-convert-any-text-into-a-graph-of-concepts-110844f22a1a\n",
    "* https://towardsdatascience.com/text-to-knowledge-graph-made-easy-with-graph-maker-f3f890c0dbe8\n"
   ]
  },
  {
   "cell_type": "markdown",
   "metadata": {},
   "source": []
  }
 ],
 "metadata": {
  "language_info": {
   "name": "python"
  }
 },
 "nbformat": 4,
 "nbformat_minor": 2
}
